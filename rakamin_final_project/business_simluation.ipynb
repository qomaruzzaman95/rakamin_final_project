{
 "cells": [
  {
   "cell_type": "markdown",
   "id": "08f59f29-792d-46ed-9c09-313ab5dcd502",
   "metadata": {},
   "source": [
    "# Load Trained Model"
   ]
  },
  {
   "cell_type": "code",
   "execution_count": 2,
   "id": "8f2337d6-29f2-4788-890e-b5ae2d1d33b8",
   "metadata": {
    "tags": []
   },
   "outputs": [],
   "source": [
    "import pickle\n",
    "import os\n",
    "\n",
    "model_dir = 'model'\n",
    "model_name = 'rf_5_feature.pkl'\n",
    "model_path = os.path.join(model_dir, model_name)\n",
    "\n",
    "# Load the model using pickle\n",
    "with open(model_path, 'rb') as file:\n",
    "    loaded_model = pickle.load(file)\n"
   ]
  },
  {
   "cell_type": "markdown",
   "id": "b7bcdc09",
   "metadata": {},
   "source": [
    "### Deskripsi Feature\n",
    "PageValues: Nilai yang dihasilkan dari setiap halaman yang dikunjungi.\n",
    "\n",
    "Administrative_Duration: Durasi waktu yang dihabiskan pada halaman administratif.\n",
    "\n",
    "ExitRates: Rasio jumlah orang yang keluar dari situs pada halaman tertentu.\n",
    "\n",
    "BounceRates: Rasio jumlah orang yang meninggalkan situs setelah hanya mengunjungi satu halaman.\n",
    "\n",
    "ProductRelated_Duration: Durasi waktu yang dihabiskan pada halaman terkait produk."
   ]
  },
  {
   "cell_type": "markdown",
   "id": "999833f5",
   "metadata": {},
   "source": [
    "### Tujuan Simulasi\n",
    "Meningkatkan PageValues.\n",
    "\n",
    "Mengurangi ExitRates dan BounceRates.\n",
    "\n",
    "Meningkatkan durasi waktu pada halaman tertentu (Administrative atau ProductRelated)."
   ]
  },
  {
   "cell_type": "markdown",
   "id": "1598e054",
   "metadata": {},
   "source": [
    "### Dataset"
   ]
  },
  {
   "cell_type": "code",
   "execution_count": 3,
   "id": "dfec44f6",
   "metadata": {
    "tags": []
   },
   "outputs": [],
   "source": [
    "# Load Dataset\n",
    "import pandas as pd\n",
    "original_dataset = pd.read_csv('dataset/Dataset.csv')\n",
    "original_dataset.columns = original_dataset.columns.str.lower()\n",
    "original_dataset = original_dataset[['pagevalues','administrative_duration','exitrates','bouncerates','productrelated_duration','revenue']]"
   ]
  },
  {
   "cell_type": "markdown",
   "id": "982839fd",
   "metadata": {},
   "source": [
    "### Preprocessing\n",
    "1. Handling Missing Values\n",
    "2. Handling Duplicate Values"
   ]
  },
  {
   "cell_type": "code",
   "execution_count": 4,
   "id": "18155381",
   "metadata": {
    "tags": []
   },
   "outputs": [],
   "source": [
    "# Handling Missing Values\n",
    "null_feature = ['productrelated_duration', 'administrative_duration', 'bouncerates']\n",
    "clean_data   = original_dataset\n",
    "clean_data[null_feature] = clean_data[null_feature].fillna(clean_data[null_feature].median())"
   ]
  },
  {
   "cell_type": "code",
   "execution_count": 5,
   "id": "02fa00fb",
   "metadata": {
    "tags": []
   },
   "outputs": [
    {
     "name": "stdout",
     "output_type": "stream",
     "text": [
      "Duplicate :1546 Origin Length :12946 Droped Duplicate Length :11400\n"
     ]
    }
   ],
   "source": [
    "# Handing Duplicates\n",
    "data_length_before = len(clean_data)\n",
    "clean_data.drop_duplicates(inplace=True)\n",
    "data_length_after = len(clean_data)\n",
    "duplicates_sum = data_length_before - data_length_after\n",
    "\n",
    "print(f'Duplicate :{duplicates_sum}', f'Origin Length :{data_length_before}', f'Droped Duplicate Length :{data_length_after}')"
   ]
  },
  {
   "cell_type": "markdown",
   "id": "b03e6b55",
   "metadata": {},
   "source": [
    "### Skenario Simulasi\n",
    "Skenario 1: Meningkatkan PageValues sebesar 10%.\n",
    "\n",
    "Skenario 2: Mengurangi ExitRates dan BounceRates sebesar 5%.\n",
    "\n",
    "Skenario 3: Meningkatkan Administrative_Duration dan ProductRelated_Duration sebesar 15%.\n"
   ]
  },
  {
   "cell_type": "code",
   "execution_count": 17,
   "id": "386c7036",
   "metadata": {
    "tags": []
   },
   "outputs": [],
   "source": [
    "# Membuat Duplikat Dataset Sesuai dengan Skenario\n",
    "\n",
    "# Skenario 1: Meningkatkan PageValues sebesar 10%\n",
    "data_scenario1 = clean_data.copy()\n",
    "data_scenario1['pagevalues'] = data_scenario1['pagevalues'] * 1.10\n",
    "\n",
    "# Skenario 2: Mengurangi ExitRates dan BounceRates sebesar 5%\n",
    "data_scenario2 = clean_data.copy()\n",
    "data_scenario2['exitrates'] = data_scenario2['exitrates'] * 0.95\n",
    "data_scenario2['bouncerates'] = data_scenario2['bouncerates'] * 0.95\n",
    "\n",
    "# Skenario 3: Meningkatkan Administrative_Duration dan ProductRelated_Duration sebesar 15%\n",
    "data_scenario3 = clean_data.copy()\n",
    "data_scenario3['administrative_duration'] = data_scenario3['administrative_duration'] * 1.15\n",
    "data_scenario3['productrelated_duration'] = data_scenario3['productrelated_duration'] * 1.15"
   ]
  },
  {
   "cell_type": "code",
   "execution_count": 18,
   "id": "ead1d1a9",
   "metadata": {
    "tags": []
   },
   "outputs": [],
   "source": [
    "# Menggunakan model untuk memprediksi hasil\n",
    "predictions_scenario1 = loaded_model.predict(data_scenario1[['pagevalues','administrative_duration','exitrates','bouncerates','productrelated_duration']])\n",
    "predictions_scenario2 = loaded_model.predict(data_scenario2[['pagevalues','administrative_duration','exitrates','bouncerates','productrelated_duration']])\n",
    "predictions_scenario3 = loaded_model.predict(data_scenario3[['pagevalues','administrative_duration','exitrates','bouncerates','productrelated_duration']])"
   ]
  },
  {
   "cell_type": "code",
   "execution_count": 19,
   "id": "18d07a19",
   "metadata": {
    "tags": []
   },
   "outputs": [
    {
     "name": "stdout",
     "output_type": "stream",
     "text": [
      "Pendapatan dengan Skenario 0: 1906\n",
      "Pendapatan dengan Skenario 1: 10683\n",
      "Pendapatan dengan Skenario 2: 10757\n",
      "Pendapatan dengan Skenario 3: 10683\n"
     ]
    }
   ],
   "source": [
    "# Menghitung hasil simulasi\n",
    "revenue_scenario0 = sum(clean_data['revenue']) # Hitungan Original Dari Dataset\n",
    "revenue_scenario1 = sum(predictions_scenario1)\n",
    "revenue_scenario2 = sum(predictions_scenario2)\n",
    "revenue_scenario3 = sum(predictions_scenario3)\n",
    "\n",
    "print(f\"Pendapatan dengan Skenario 0: {revenue_scenario0}\")\n",
    "print(f\"Pendapatan dengan Skenario 1: {revenue_scenario1}\")\n",
    "print(f\"Pendapatan dengan Skenario 2: {revenue_scenario2}\")\n",
    "print(f\"Pendapatan dengan Skenario 3: {revenue_scenario3}\")"
   ]
  },
  {
   "cell_type": "code",
   "execution_count": 25,
   "id": "10bbb7e3-1102-493e-93d5-b32082a091c3",
   "metadata": {
    "tags": []
   },
   "outputs": [
    {
     "data": {
      "text/plain": [
       "16.719298245614034"
      ]
     },
     "execution_count": 25,
     "metadata": {},
     "output_type": "execute_result"
    }
   ],
   "source": [
    "revenue_scenario0 / len(clean_data['revenue']) * 100"
   ]
  },
  {
   "cell_type": "code",
   "execution_count": 24,
   "id": "b38fb1e1-6223-4449-b417-d1e9632a20c3",
   "metadata": {
    "tags": []
   },
   "outputs": [
    {
     "data": {
      "text/plain": [
       "93.71052631578948"
      ]
     },
     "execution_count": 24,
     "metadata": {},
     "output_type": "execute_result"
    }
   ],
   "source": [
    "revenue_scenario1 / len(clean_data['revenue']) * 100"
   ]
  },
  {
   "cell_type": "code",
   "execution_count": 26,
   "id": "6faf6470-338e-4c0d-8526-8bb6036ccb81",
   "metadata": {
    "tags": []
   },
   "outputs": [
    {
     "data": {
      "text/plain": [
       "94.35964912280703"
      ]
     },
     "execution_count": 26,
     "metadata": {},
     "output_type": "execute_result"
    }
   ],
   "source": [
    "revenue_scenario2 / len(clean_data['revenue']) * 100"
   ]
  },
  {
   "cell_type": "code",
   "execution_count": 27,
   "id": "60651208-ff51-4d6e-9151-c78d49f161dd",
   "metadata": {
    "tags": []
   },
   "outputs": [
    {
     "data": {
      "text/plain": [
       "93.71052631578948"
      ]
     },
     "execution_count": 27,
     "metadata": {},
     "output_type": "execute_result"
    }
   ],
   "source": [
    "revenue_scenario3 / len(clean_data['revenue']) * 100"
   ]
  }
 ],
 "metadata": {
  "kernelspec": {
   "display_name": "Python 3 (ipykernel)",
   "language": "python",
   "name": "python3"
  },
  "language_info": {
   "codemirror_mode": {
    "name": "ipython",
    "version": 3
   },
   "file_extension": ".py",
   "mimetype": "text/x-python",
   "name": "python",
   "nbconvert_exporter": "python",
   "pygments_lexer": "ipython3",
   "version": "3.11.5"
  }
 },
 "nbformat": 4,
 "nbformat_minor": 5
}
